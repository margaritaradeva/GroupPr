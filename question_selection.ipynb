{
 "cells": [
  {
   "cell_type": "code",
   "execution_count": 1,
   "metadata": {},
   "outputs": [
    {
     "name": "stderr",
     "output_type": "stream",
     "text": [
      "c:\\Users\\kuba\\OneDrive\\Pulpit\\studia\\year 5\\evaluation\\assessment2\\GroupPr\\.venv\\Lib\\site-packages\\tqdm\\auto.py:21: TqdmWarning: IProgress not found. Please update jupyter and ipywidgets. See https://ipywidgets.readthedocs.io/en/stable/user_install.html\n",
      "  from .autonotebook import tqdm as notebook_tqdm\n"
     ]
    }
   ],
   "source": [
    "from datasets import load_dataset\n",
    "\n",
    "ds = load_dataset(\"mandarjoshi/trivia_qa\", \"rc.nocontext\")"
   ]
  },
  {
   "cell_type": "code",
   "execution_count": 2,
   "metadata": {},
   "outputs": [],
   "source": [
    "filtered_ds = ds.filter(lambda x: len(x['answer']['aliases']) == 1)"
   ]
  },
  {
   "cell_type": "code",
   "execution_count": 3,
   "metadata": {},
   "outputs": [
    {
     "data": {
      "text/plain": [
       "6486"
      ]
     },
     "execution_count": 3,
     "metadata": {},
     "output_type": "execute_result"
    }
   ],
   "source": [
    "filtered_ds = filtered_ds['train']\n",
    "len(filtered_ds)"
   ]
  },
  {
   "cell_type": "code",
   "execution_count": 5,
   "metadata": {},
   "outputs": [],
   "source": [
    "full_dataset = [{\n",
    "    \"question\": q[\"question\"],\n",
    "    \"answers\": q[\"answer\"]['aliases'][0]\n",
    "} for q in filtered_ds\n",
    "]\n",
    "import pandas as pd\n",
    "\n",
    "full_df = pd.DataFrame(full_dataset)\n",
    "\n",
    "# uncomment the below if you need a full pre-selection csv\n",
    "\n",
    "full_df.to_csv(\"trivia_qa.csv\", index=False)"
   ]
  },
  {
   "cell_type": "code",
   "execution_count": 7,
   "metadata": {},
   "outputs": [
    {
     "name": "stdout",
     "output_type": "stream",
     "text": [
      "\\begin{tabular}{lll}\n",
      "\\toprule\n",
      " & question & answers \\\\\n",
      "\\midrule\n",
      "0 & How did Jock die in Dallas? & Helicopter accident \\\\\n",
      "1 & Who wrote the novel Evening Class? & Maeve Binchy \\\\\n",
      "2 & What was Prince's last No 1 of the 80s? & Batdance \\\\\n",
      "3 & Nickelodeon was founded in 1979 by which company? & Warner Amex \\\\\n",
      "4 & In cross-country bike racing, what do the initials BMX represent? & Bicycle moto x (cross) \\\\\n",
      "\\bottomrule\n",
      "\\end{tabular}\n",
      "\n"
     ]
    }
   ],
   "source": [
    "print(full_df.head().to_latex())"
   ]
  },
  {
   "cell_type": "code",
   "execution_count": 74,
   "metadata": {},
   "outputs": [],
   "source": [
    "indices = []\n",
    "with open(\"indices.txt\", \"r\") as f:\n",
    "    for line in f.readlines():\n",
    "        indices.append(int(line.strip())-2)"
   ]
  },
  {
   "cell_type": "code",
   "execution_count": null,
   "metadata": {},
   "outputs": [
    {
     "data": {
      "text/html": [
       "<div>\n",
       "<style scoped>\n",
       "    .dataframe tbody tr th:only-of-type {\n",
       "        vertical-align: middle;\n",
       "    }\n",
       "\n",
       "    .dataframe tbody tr th {\n",
       "        vertical-align: top;\n",
       "    }\n",
       "\n",
       "    .dataframe thead th {\n",
       "        text-align: right;\n",
       "    }\n",
       "</style>\n",
       "<table border=\"1\" class=\"dataframe\">\n",
       "  <thead>\n",
       "    <tr style=\"text-align: right;\">\n",
       "      <th></th>\n",
       "      <th>question</th>\n",
       "      <th>answers</th>\n",
       "    </tr>\n",
       "  </thead>\n",
       "  <tbody>\n",
       "    <tr>\n",
       "      <th>0</th>\n",
       "      <td>Nickelodeon was founded in 1979 by which company?</td>\n",
       "      <td>Warner Amex</td>\n",
       "    </tr>\n",
       "    <tr>\n",
       "      <th>1</th>\n",
       "      <td>What is the maximum weight permitted for calve...</td>\n",
       "      <td>350 pounds. The minimum is 200 pounds</td>\n",
       "    </tr>\n",
       "    <tr>\n",
       "      <th>2</th>\n",
       "      <td>Under the rules outlined in the charter of the...</td>\n",
       "      <td>At least 6 grams. Silver medals must be at lea...</td>\n",
       "    </tr>\n",
       "    <tr>\n",
       "      <th>3</th>\n",
       "      <td>How many of the four Grand Slam trophies in te...</td>\n",
       "      <td>Only the Wimbledon trophy is gold; the others-...</td>\n",
       "    </tr>\n",
       "    <tr>\n",
       "      <th>4</th>\n",
       "      <td>On what vegetable did an ancient Egyptian plac...</td>\n",
       "      <td>The onion. Its round shape symbolized eternity</td>\n",
       "    </tr>\n",
       "    <tr>\n",
       "      <th>...</th>\n",
       "      <td>...</td>\n",
       "      <td>...</td>\n",
       "    </tr>\n",
       "    <tr>\n",
       "      <th>95</th>\n",
       "      <td>Who scored the first ever Golden Goal in the 1...</td>\n",
       "      <td>Laurent Blanc</td>\n",
       "    </tr>\n",
       "    <tr>\n",
       "      <th>96</th>\n",
       "      <td>Who crowned Napoleon as Emperor?</td>\n",
       "      <td>He crowned himself</td>\n",
       "    </tr>\n",
       "    <tr>\n",
       "      <th>97</th>\n",
       "      <td>The Titanic had three anchors.  What was their...</td>\n",
       "      <td>31 tons</td>\n",
       "    </tr>\n",
       "    <tr>\n",
       "      <th>98</th>\n",
       "      <td>How long is a dog watch at sea?</td>\n",
       "      <td>Two hours</td>\n",
       "    </tr>\n",
       "    <tr>\n",
       "      <th>99</th>\n",
       "      <td>What is the capital of Switzerland?</td>\n",
       "      <td>Bern or Berne</td>\n",
       "    </tr>\n",
       "  </tbody>\n",
       "</table>\n",
       "<p>100 rows × 2 columns</p>\n",
       "</div>"
      ],
      "text/plain": [
       "                                             question  \\\n",
       "0   Nickelodeon was founded in 1979 by which company?   \n",
       "1   What is the maximum weight permitted for calve...   \n",
       "2   Under the rules outlined in the charter of the...   \n",
       "3   How many of the four Grand Slam trophies in te...   \n",
       "4   On what vegetable did an ancient Egyptian plac...   \n",
       "..                                                ...   \n",
       "95  Who scored the first ever Golden Goal in the 1...   \n",
       "96                   Who crowned Napoleon as Emperor?   \n",
       "97  The Titanic had three anchors.  What was their...   \n",
       "98                    How long is a dog watch at sea?   \n",
       "99                What is the capital of Switzerland?   \n",
       "\n",
       "                                              answers  \n",
       "0                                         Warner Amex  \n",
       "1               350 pounds. The minimum is 200 pounds  \n",
       "2   At least 6 grams. Silver medals must be at lea...  \n",
       "3   Only the Wimbledon trophy is gold; the others-...  \n",
       "4      The onion. Its round shape symbolized eternity  \n",
       "..                                                ...  \n",
       "95                                      Laurent Blanc  \n",
       "96                                 He crowned himself  \n",
       "97                                            31 tons  \n",
       "98                                          Two hours  \n",
       "99                                      Bern or Berne  \n",
       "\n",
       "[100 rows x 2 columns]"
      ]
     },
     "execution_count": 78,
     "metadata": {},
     "output_type": "execute_result"
    }
   ],
   "source": [
    "import pandas as pd\n",
    "\n",
    "chosen_questions = [full_dataset[i] for i in indices]\n",
    "chosen_questions\n",
    "\n",
    "new_df = pd.DataFrame(chosen_questions)\n",
    "new_df"
   ]
  },
  {
   "cell_type": "code",
   "execution_count": 79,
   "metadata": {},
   "outputs": [],
   "source": [
    "new_df.to_csv(\"trivia_qa_chosen.csv\", index=False)"
   ]
  }
 ],
 "metadata": {
  "kernelspec": {
   "display_name": ".venv",
   "language": "python",
   "name": "python3"
  },
  "language_info": {
   "codemirror_mode": {
    "name": "ipython",
    "version": 3
   },
   "file_extension": ".py",
   "mimetype": "text/x-python",
   "name": "python",
   "nbconvert_exporter": "python",
   "pygments_lexer": "ipython3",
   "version": "3.12.3"
  }
 },
 "nbformat": 4,
 "nbformat_minor": 2
}
