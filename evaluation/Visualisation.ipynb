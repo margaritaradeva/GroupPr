{
 "cells": [
  {
   "cell_type": "code",
   "execution_count": 3,
   "metadata": {},
   "outputs": [
    {
     "name": "stdout",
     "output_type": "stream",
     "text": [
      "Loaded Bulgarian dataset: 100 rows\n",
      "Loaded Polish dataset: 100 rows\n",
      "Loaded Chosen dataset: 100 rows\n",
      "\n",
      "Question Length Statistics per Language:\n",
      "\\begin{tabular}{lrrr}\n",
      "\\toprule\n",
      " & Avg Question Length (Words) & Max Question Length (Words) & Min Question Length (Words) \\\\\n",
      "\\midrule\n",
      "Bulgarian & 10.930000 & 26 & 4 \\\\\n",
      "Polish & 9.600000 & 19 & 4 \\\\\n",
      "Chosen & 11.740000 & 27 & 5 \\\\\n",
      "\\bottomrule\n",
      "\\end{tabular}\n",
      "\n"
     ]
    }
   ],
   "source": [
    "import pandas as pd\n",
    "import os\n",
    "from typing import List\n",
    "\n",
    "class QADatasetAnalyzer:\n",
    "    def __init__(self, file_paths: List[str]):\n",
    "        self.datasets = {}\n",
    "        self.column_names = {\n",
    "            'Bulgarian': ['Question', 'Answer'],\n",
    "            'Polish': ['Question', 'Answer'],\n",
    "            'Chosen': ['Question', 'Answer']\n",
    "        }\n",
    "        \n",
    "        for file_path in file_paths:\n",
    "            base_name = os.path.basename(file_path)\n",
    "            language = base_name.split('_')[2].split('.')[0].capitalize()\n",
    "            self.datasets[language] = pd.read_csv(file_path)\n",
    "            print(f\"Loaded {language} dataset: {len(self.datasets[language])} rows\")\n",
    "    \n",
    "    def language_summary(self):\n",
    "        summary = {}\n",
    "        for lang, df in self.datasets.items():\n",
    "            question_column = self.column_names[lang][0]\n",
    "            question_lengths = df[question_column].apply(lambda x: len(str(x).split()))\n",
    "            \n",
    "            summary[lang] = {\n",
    "                'Avg Question Length (Words)': question_lengths.mean(),\n",
    "                'Max Question Length (Words)': question_lengths.max(),\n",
    "                'Min Question Length (Words)': question_lengths.min()\n",
    "            }\n",
    "        \n",
    "        return pd.DataFrame.from_dict(summary, orient='index')\n",
    "\n",
    "if __name__ == '__main__':\n",
    "    file_paths = [\n",
    "        '../data/input/trivia_qa_bulgarian.csv',\n",
    "        '../data/input/trivia_qa_polish.csv',\n",
    "        '../data/input/trivia_qa_chosen.csv'\n",
    "    ]\n",
    "    \n",
    "    analyzer = QADatasetAnalyzer(file_paths)\n",
    "    \n",
    "    print(\"\\nQuestion Length Statistics per Language:\")\n",
    "    print(analyzer.language_summary().to_latex())\n"
   ]
  },
  {
   "cell_type": "code",
   "execution_count": null,
   "metadata": {},
   "outputs": [],
   "source": []
  }
 ],
 "metadata": {
  "kernelspec": {
   "display_name": ".venv",
   "language": "python",
   "name": "python3"
  },
  "language_info": {
   "codemirror_mode": {
    "name": "ipython",
    "version": 3
   },
   "file_extension": ".py",
   "mimetype": "text/x-python",
   "name": "python",
   "nbconvert_exporter": "python",
   "pygments_lexer": "ipython3",
   "version": "3.12.3"
  }
 },
 "nbformat": 4,
 "nbformat_minor": 2
}
